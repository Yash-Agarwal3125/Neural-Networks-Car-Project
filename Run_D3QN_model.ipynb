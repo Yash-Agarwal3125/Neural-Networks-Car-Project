{
 "cells": [
  {
   "cell_type": "code",
   "execution_count": 1,
   "id": "f50fbf8c",
   "metadata": {},
   "outputs": [
    {
     "name": "stderr",
     "output_type": "stream",
     "text": [
      "c:\\Users\\Yash\\OneDrive\\Desktop\\Neural Networks Car Project\\.venv\\Lib\\site-packages\\pygame\\pkgdata.py:25: UserWarning: pkg_resources is deprecated as an API. See https://setuptools.pypa.io/en/latest/pkg_resources.html. The pkg_resources package is slated for removal as early as 2025-11-30. Refrain from using this package or pin to Setuptools<81.\n",
      "  from pkg_resources import resource_stream, resource_exists\n"
     ]
    },
    {
     "name": "stdout",
     "output_type": "stream",
     "text": [
      "pygame 2.6.1 (SDL 2.28.4, Python 3.13.7)\n",
      "Hello from the pygame community. https://www.pygame.org/contribute.html\n"
     ]
    }
   ],
   "source": [
    "import pygame\n",
    "import numpy as np\n",
    "import tensorflow as tf\n",
    "import time\n",
    "import os\n",
    "from Core_Game_Parts import *\n",
    "from keras import layers, models\n"
   ]
  },
  {
   "cell_type": "code",
   "execution_count": 2,
   "id": "c9349678",
   "metadata": {},
   "outputs": [],
   "source": [
    "def build_dueling_dqn(input_shape=(4,), action_size=3):\n",
    "    from keras import layers, models, backend as K\n",
    "    import tensorflow as tf\n",
    "\n",
    "    inputs = layers.Input(shape=input_shape)\n",
    "    x = layers.Dense(128, activation='relu')(inputs)\n",
    "    x = layers.Dense(128, activation='relu')(x)\n",
    "\n",
    "    # Dueling streams\n",
    "    value = layers.Dense(64, activation='relu')(x)\n",
    "    value = layers.Dense(1, activation='linear')(value)\n",
    "\n",
    "    advantage = layers.Dense(64, activation='relu')(x)\n",
    "    advantage = layers.Dense(action_size, activation='linear')(advantage)\n",
    "\n",
    "    # Correct combination using Lambda layers to maintain graph compatibility\n",
    "    def combine_dueling(inputs):\n",
    "        value, advantage = inputs\n",
    "        return value + (advantage - tf.reduce_mean(advantage, axis=1, keepdims=True))\n",
    "\n",
    "    q_values = layers.Lambda(combine_dueling)([value, advantage])\n",
    "\n",
    "    model = models.Model(inputs=inputs, outputs=q_values)\n",
    "    return model\n"
   ]
  },
  {
   "cell_type": "code",
   "execution_count": 3,
   "id": "e7754987",
   "metadata": {},
   "outputs": [],
   "source": [
    "\n",
    "\n",
    "def run_d3qn_agent(weights_path, render=True):\n",
    "    \"\"\"\n",
    "    Visual simulation for the trained D3QN agent (Double + Dueling).\n",
    "    \"\"\"\n",
    "\n",
    "    # Use proper SDL backend\n",
    "    os.environ[\"SDL_VIDEODRIVER\"] = \"windows\"\n",
    "    pygame.init()\n",
    "    screen = pygame.display.set_mode((SCREEN_WIDTH, SCREEN_HEIGHT))\n",
    "    clock = pygame.time.Clock()\n",
    "    pygame.display.set_caption(\"Trained D3QN Agent\")\n",
    "    font = pygame.font.SysFont(None, 36)\n",
    "    crash_font = pygame.font.SysFont(None, 72)\n",
    "\n",
    "    # Load the environment\n",
    "    track_surface = pygame.image.load(TRACK_IMAGE_PATH).convert()\n",
    "\n",
    "    # Build model and load weights\n",
    "    ai_model = build_dueling_dqn()\n",
    "    try:\n",
    "        ai_model.load_weights(weights_path)\n",
    "        print(f\"Successfully loaded D3QN weights from: {weights_path}\")\n",
    "    except Exception as e:\n",
    "        print(f\"Error loading weights: {e}\")\n",
    "        pygame.quit()\n",
    "        return\n",
    "\n",
    "    car = Car(CAR_IMAGE_PATH, 900, 426, angle=-45)\n",
    "    running = True\n",
    "    action_counts = {0: 0, 1: 0, 2: 0}  # Left / Straight / Right\n",
    "    step_counter = 0\n",
    "\n",
    "    while running:\n",
    "        for event in pygame.event.get():\n",
    "            if event.type == pygame.QUIT:\n",
    "                running = False\n",
    "\n",
    "        # 1️⃣ Build state vector (3 sensors + speed)\n",
    "        distances, ray_endpoints = ray_casting(car, track_surface)\n",
    "        state = np.array(distances + [car.speed], dtype=np.float32)\n",
    "        state = np.expand_dims(state, axis=0)\n",
    "\n",
    "        # 2️⃣ Predict Q-values and select best action\n",
    "        q_values = ai_model.predict(state, verbose=0)\n",
    "        action = np.argmax(q_values[0])\n",
    "        action_counts[action] += 1\n",
    "\n",
    "        # 3️⃣ Execute action\n",
    "        if action == 0:\n",
    "            car.angle += 5\n",
    "        elif action == 2:\n",
    "            car.angle -= 5\n",
    "        car.speed = min(car.speed + 0.05, 5)\n",
    "        car.move()\n",
    "\n",
    "        # 4️⃣ Check for crash (off-track color)\n",
    "        crashed = False\n",
    "        try:\n",
    "            pixel_color = track_surface.get_at((int(car.x), int(car.y)))[:3]\n",
    "            if pixel_color == (50, 50, 50):  # your DRAW_COLOR\n",
    "                crashed = True\n",
    "        except:\n",
    "            crashed = True\n",
    "\n",
    "        if crashed:\n",
    "            # Display crash message\n",
    "            crash_text = crash_font.render(\"CRASHED! Resetting...\", True, (255, 0, 0))\n",
    "            text_rect = crash_text.get_rect(center=(SCREEN_WIDTH/2, SCREEN_HEIGHT/2))\n",
    "            screen.blit(crash_text, text_rect)\n",
    "            pygame.display.update()\n",
    "            pygame.time.wait(2000)\n",
    "            print(f\"Episode crash after {step_counter} steps.\")\n",
    "            print(\"Action counts:\", action_counts)\n",
    "            # Reset car\n",
    "            car = Car(CAR_IMAGE_PATH, 900, 426, angle=-45)\n",
    "            car.speed = 0\n",
    "            action_counts = {0: 0, 1: 0, 2: 0}\n",
    "            step_counter = 0\n",
    "\n",
    "        # 5️⃣ Render everything\n",
    "        if render:\n",
    "            screen.blit(track_surface, (0, 0))\n",
    "            car.draw(screen)\n",
    "            for p in ray_endpoints:\n",
    "                pygame.draw.line(screen, (0, 255, 0), (car.x, car.y), p, 1)\n",
    "\n",
    "            action_map = {0: \"Left\", 1: \"Straight\", 2: \"Right\"}\n",
    "            info_text = f\"Action: {action_map[action]} | Speed: {car.speed:.2f}\"\n",
    "            text_surface = font.render(info_text, True, (255, 255, 255))\n",
    "            screen.blit(text_surface, (20, 20))\n",
    "\n",
    "            pygame.display.update()\n",
    "            clock.tick(60)\n",
    "\n",
    "        step_counter += 1\n",
    "\n",
    "    pygame.quit()\n"
   ]
  },
  {
   "cell_type": "code",
   "execution_count": 4,
   "id": "e3b88808",
   "metadata": {},
   "outputs": [
    {
     "name": "stdout",
     "output_type": "stream",
     "text": [
      "WARNING:tensorflow:From c:\\Users\\Yash\\OneDrive\\Desktop\\Neural Networks Car Project\\.venv\\Lib\\site-packages\\keras\\src\\backend\\tensorflow\\core.py:232: The name tf.placeholder is deprecated. Please use tf.compat.v1.placeholder instead.\n",
      "\n",
      "Successfully loaded D3QN weights from: d3qn.weights.h5\n",
      "Episode crash after 89 steps.\n",
      "Action counts: {0: 10, 1: 52, 2: 28}\n",
      "Episode crash after 90 steps.\n",
      "Action counts: {0: 10, 1: 52, 2: 28}\n"
     ]
    }
   ],
   "source": [
    "WEIGHTS_FILENAME = \"d3qn.weights.h5\"   # or whatever you named it\n",
    "\n",
    "if not pygame.display.get_init():\n",
    "    run_d3qn_agent(WEIGHTS_FILENAME, render=True)\n",
    "else:\n",
    "    print(\"Pygame window may already be open. Restart the kernel and try again.\")"
   ]
  }
 ],
 "metadata": {
  "kernelspec": {
   "display_name": ".venv (3.13.7)",
   "language": "python",
   "name": "python3"
  },
  "language_info": {
   "codemirror_mode": {
    "name": "ipython",
    "version": 3
   },
   "file_extension": ".py",
   "mimetype": "text/x-python",
   "name": "python",
   "nbconvert_exporter": "python",
   "pygments_lexer": "ipython3",
   "version": "3.13.7"
  }
 },
 "nbformat": 4,
 "nbformat_minor": 5
}
