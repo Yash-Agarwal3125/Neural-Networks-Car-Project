{
 "cells": [
  {
   "cell_type": "code",
   "execution_count": 8,
   "id": "f6ebb160",
   "metadata": {},
   "outputs": [],
   "source": [
    "import numpy as np\n",
    "import pygame\n",
    "import tensorflow as tf"
   ]
  },
  {
   "cell_type": "code",
   "execution_count": 9,
   "id": "08e17ef7",
   "metadata": {},
   "outputs": [],
   "source": [
    "SCREEN_WIDTH, SCREEN_HEIGHT = 1280, 720\n",
    "BG_COLOR = (120, 120, 120)\n",
    "\n",
    "DRAW_COLOR = (50, 50, 50)\n",
    "DRAW_RADIUS = 2\n",
    "ERASE_RADIUS = 5\n",
    "\n",
    "CAR_WIDTH, CAR_HEIGHT = 50, 30\n",
    "DEFAULT_START_X, DEFAULT_START_Y = 897, 379\n",
    "DEFAULT_START_ANGLE = 290\n",
    "DEFAULT_START_SPEED = 2\n",
    "\n",
    "TRACK_SAVE_PATH = \"track.png\"\n",
    "CAR_IMAGE_PATH = \"Track_images/car.png\"\n",
    "TRACK_IMAGE_PATH = r\"Track_images\\silverstone_track.png\"\n"
   ]
  },
  {
   "cell_type": "markdown",
   "id": "ff8dcd7b",
   "metadata": {},
   "source": [
    "FOR making th track drawing \n",
    "left ckick for drawing the track\n",
    "right click for eraing the track"
   ]
  },
  {
   "cell_type": "code",
   "execution_count": 2,
   "id": "912d2d9f",
   "metadata": {},
   "outputs": [],
   "source": [
    "def draw_track():\n",
    "    pygame.init()\n",
    "    pygame.display.set_caption(\"Drawing the track, press 'S' to save as image.\")\n",
    "    screen = pygame.display.set_mode((SCREEN_WIDTH, SCREEN_HEIGHT))\n",
    "    screen.fill(BG_COLOR)\n",
    "\n",
    "    running, drawing, erase = True, False, False\n",
    "\n",
    "    while running:\n",
    "        for event in pygame.event.get():\n",
    "            if event.type == pygame.QUIT:\n",
    "                running = False\n",
    "            elif event.type == pygame.MOUSEBUTTONDOWN:\n",
    "                if event.button == 1:\n",
    "                    drawing = True\n",
    "                elif event.button == 3:\n",
    "                    erase = True\n",
    "            elif event.type == pygame.MOUSEBUTTONUP:\n",
    "                if event.button == 1:\n",
    "                    drawing = False\n",
    "                elif event.button == 3:\n",
    "                    erase = False\n",
    "            elif event.type == pygame.MOUSEMOTION:\n",
    "                mouse_pos = pygame.mouse.get_pos()\n",
    "                if drawing:\n",
    "                    pygame.draw.circle(screen, DRAW_COLOR, mouse_pos, DRAW_RADIUS)\n",
    "                elif erase:\n",
    "                    pygame.draw.circle(screen, BG_COLOR, mouse_pos, ERASE_RADIUS)\n",
    "            elif event.type == pygame.KEYDOWN and event.key == pygame.K_s:\n",
    "                pygame.image.save(screen, TRACK_SAVE_PATH)\n",
    "\n",
    "        pygame.display.update()\n",
    "    pygame.quit()\n"
   ]
  },
  {
   "cell_type": "code",
   "execution_count": 3,
   "id": "ec1fd998",
   "metadata": {},
   "outputs": [],
   "source": [
    "class Car:\n",
    "    def __init__(self, image_path, x, y, angle=0, speed=0):\n",
    "        image = pygame.image.load(image_path).convert_alpha()\n",
    "        self.image = pygame.transform.scale(image, (CAR_WIDTH, CAR_HEIGHT))\n",
    "        self.x, self.y = x, y\n",
    "        self.angle = angle\n",
    "        self.speed = speed\n",
    "\n",
    "    def move(self):\n",
    "        rad = np.radians(self.angle)\n",
    "        self.x += self.speed * np.cos(rad)\n",
    "        self.y -= self.speed * np.sin(rad)\n",
    "\n",
    "    def draw(self, screen):\n",
    "        rotated_img = pygame.transform.rotate(self.image, -self.angle)\n",
    "        rect = rotated_img.get_rect(center=(self.x, self.y))\n",
    "        screen.blit(rotated_img, rect.topleft)\n"
   ]
  },
  {
   "cell_type": "code",
   "execution_count": 4,
   "id": "7e04541e",
   "metadata": {},
   "outputs": [],
   "source": [
    "def run_simulation(start_x=DEFAULT_START_X, \n",
    "                   start_y=DEFAULT_START_Y, \n",
    "                   start_angle=DEFAULT_START_ANGLE, \n",
    "                   start_speed=DEFAULT_START_SPEED):\n",
    "    pygame.init()\n",
    "    screen = pygame.display.set_mode((SCREEN_WIDTH, SCREEN_HEIGHT))\n",
    "    clock = pygame.time.Clock()\n",
    "    pygame.display.set_caption(\"Car Simulation\")\n",
    "\n",
    "    track_image = pygame.image.load(TRACK_IMAGE_PATH).convert()\n",
    "    car = Car(CAR_IMAGE_PATH, start_x, start_y, start_angle, start_speed)\n",
    "\n",
    "    running = True\n",
    "    while running:\n",
    "        for event in pygame.event.get():\n",
    "            if event.type == pygame.QUIT:\n",
    "                running = False\n",
    "\n",
    "        screen.fill(BG_COLOR)\n",
    "        screen.blit(track_image, (0, 0))\n",
    "\n",
    "        car.move()\n",
    "        car.draw(screen)\n",
    "\n",
    "        pygame.display.update()\n",
    "        clock.tick(60)\n",
    "\n",
    "    pygame.quit()\n"
   ]
  },
  {
   "cell_type": "code",
   "execution_count": 7,
   "id": "823c5ef8",
   "metadata": {},
   "outputs": [],
   "source": [
    "if __name__ == \"__main__\":\n",
    "    # draw_track()\n",
    "    run_simulation()\n"
   ]
  },
  {
   "cell_type": "code",
   "execution_count": null,
   "id": "5902fbd8",
   "metadata": {},
   "outputs": [],
   "source": []
  }
 ],
 "metadata": {
  "kernelspec": {
   "display_name": ".venv",
   "language": "python",
   "name": "python3"
  },
  "language_info": {
   "codemirror_mode": {
    "name": "ipython",
    "version": 3
   },
   "file_extension": ".py",
   "mimetype": "text/x-python",
   "name": "python",
   "nbconvert_exporter": "python",
   "pygments_lexer": "ipython3",
   "version": "3.13.7"
  }
 },
 "nbformat": 4,
 "nbformat_minor": 5
}
