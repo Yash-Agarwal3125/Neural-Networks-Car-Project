{
 "cells": [
  {
   "cell_type": "code",
   "execution_count": 1,
   "id": "f6ebb160",
   "metadata": {},
   "outputs": [
    {
     "name": "stderr",
     "output_type": "stream",
     "text": [
      "c:\\Users\\Yash\\OneDrive\\Desktop\\Neural Networks Car Project\\venv\\Lib\\site-packages\\pygame\\pkgdata.py:25: UserWarning: pkg_resources is deprecated as an API. See https://setuptools.pypa.io/en/latest/pkg_resources.html. The pkg_resources package is slated for removal as early as 2025-11-30. Refrain from using this package or pin to Setuptools<81.\n",
      "  from pkg_resources import resource_stream, resource_exists\n"
     ]
    },
    {
     "name": "stdout",
     "output_type": "stream",
     "text": [
      "pygame 2.6.1 (SDL 2.28.4, Python 3.13.7)\n",
      "Hello from the pygame community. https://www.pygame.org/contribute.html\n"
     ]
    }
   ],
   "source": [
    "#required libraries\n",
    "import numpy as np\n",
    "import pygame\n",
    "import tensorflow as tf"
   ]
  },
  {
   "cell_type": "code",
   "execution_count": 2,
   "id": "08e17ef7",
   "metadata": {},
   "outputs": [],
   "source": [
    "# global constants\n",
    "SCREEN_WIDTH, SCREEN_HEIGHT = 1280, 720\n",
    "BG_COLOR = (120, 120, 120)\n",
    "\n",
    "DRAW_COLOR = (50, 50, 50)\n",
    "DRAW_RADIUS = 2\n",
    "ERASE_RADIUS = 5\n",
    "\n",
    "CAR_WIDTH, CAR_HEIGHT = 40, 20\n",
    "DEFAULT_START_X, DEFAULT_START_Y = 897, 380\n",
    "DEFAULT_START_ANGLE = 78\n",
    "DEFAULT_START_SPEED = 0\n",
    "\n",
    "TRACK_SAVE_PATH = \"track.png\"\n",
    "CAR_IMAGE_PATH = \"Track_images/car.png\"\n",
    "TRACK_IMAGE_PATH = r\"Track_images\\silverstone_track.png\"\n"
   ]
  },
  {
   "cell_type": "markdown",
   "id": "ff8dcd7b",
   "metadata": {},
   "source": [
    "FOR making th track drawing \n",
    "left ckick for drawing the track\n",
    "right click for eraing the track"
   ]
  },
  {
   "cell_type": "code",
   "execution_count": 3,
   "id": "912d2d9f",
   "metadata": {},
   "outputs": [],
   "source": [
    "def draw_track():\n",
    "    \"\"\"\n",
    "    Function to draw the racing track.\n",
    "    Left mouse button to draw, right mouse button to erase.\n",
    "    Press 'S' to save the track as an image.\n",
    "    \"\"\"\n",
    "    pygame.init()\n",
    "    pygame.display.set_caption(\"Drawing the track, press 'S' to save as image.\")\n",
    "    screen = pygame.display.set_mode((SCREEN_WIDTH, SCREEN_HEIGHT))\n",
    "    screen.fill(BG_COLOR)\n",
    "\n",
    "    running, drawing, erase = True, False, False\n",
    "\n",
    "    while running:\n",
    "        for event in pygame.event.get():\n",
    "            if event.type == pygame.QUIT:\n",
    "                running = False\n",
    "            elif event.type == pygame.MOUSEBUTTONDOWN:\n",
    "                if event.button == 1:\n",
    "                    drawing = True\n",
    "                elif event.button == 3:\n",
    "                    erase = True\n",
    "            elif event.type == pygame.MOUSEBUTTONUP:\n",
    "                if event.button == 1:\n",
    "                    drawing = False\n",
    "                elif event.button == 3:\n",
    "                    erase = False\n",
    "            elif event.type == pygame.MOUSEMOTION:\n",
    "                mouse_pos = pygame.mouse.get_pos()\n",
    "                if drawing:\n",
    "                    pygame.draw.circle(screen, DRAW_COLOR, mouse_pos, DRAW_RADIUS)\n",
    "                elif erase:\n",
    "                    pygame.draw.circle(screen, BG_COLOR, mouse_pos, ERASE_RADIUS)\n",
    "            elif event.type == pygame.KEYDOWN and event.key == pygame.K_s:\n",
    "                pygame.image.save(screen, TRACK_SAVE_PATH)\n",
    "\n",
    "        pygame.display.update()\n",
    "    pygame.quit()\n"
   ]
  },
  {
   "cell_type": "code",
   "execution_count": 4,
   "id": "ec1fd998",
   "metadata": {},
   "outputs": [],
   "source": [
    "class Car:\n",
    "    \"\"\"\n",
    "    Class representing a car in the racing simulation.\n",
    "    \"\"\"\n",
    "    def __init__(self, image_path, x, y, angle=0, speed=0):\n",
    "        image = pygame.image.load(image_path).convert_alpha()\n",
    "        self.image = pygame.transform.scale(image, (CAR_WIDTH, CAR_HEIGHT))\n",
    "        self.x, self.y = x, y\n",
    "        self.angle = angle\n",
    "        self.speed = speed\n",
    "\n",
    "    def move(self):\n",
    "        rad = np.radians(self.angle)\n",
    "        self.x += self.speed * np.cos(rad)\n",
    "        self.y -= self.speed * np.sin(rad)\n",
    "\n",
    "    def draw(self, screen):\n",
    "        rotated_img = pygame.transform.rotate(self.image, -self.angle)\n",
    "        rect = rotated_img.get_rect(center=(self.x, self.y))\n",
    "        screen.blit(rotated_img, rect.topleft)\n"
   ]
  },
  {
   "cell_type": "code",
   "execution_count": 11,
   "id": "f4346e7c",
   "metadata": {},
   "outputs": [],
   "source": [
    "def ray_casting(car,screen,track_surface):\n",
    "    # Ray casting implementation\n",
    "    sensor_distance=[]\n",
    "    sensor_endpoint=[]\n",
    "    sensor_angle=[-45,0,45]\n",
    "    for angle in sensor_angle:\n",
    "        ray_angle=car.angle+angle\n",
    "        ray_x,ray_y=car.x,car.y\n",
    "        distance=0\n",
    "        max_distance=200\n",
    "        while distance < max_distance:\n",
    "            rad=np.radians(ray_angle)+np.radians(car.angle+45)\n",
    "            ray_x+=np.cos(rad)\n",
    "            ray_y-=np.sin(rad)\n",
    "            distance+=1\n",
    "            if not (0<=ray_x<SCREEN_WIDTH or 0<=ray_y<SCREEN_HEIGHT):\n",
    "                break\n",
    "            pixel_color=track_surface.get_at((int(ray_x),int(ray_y)))\n",
    "            if pixel_color==DRAW_COLOR:\n",
    "                break\n",
    "        sensor_distance.append(distance)\n",
    "        sensor_endpoint.append((ray_x,ray_y))\n",
    "    return sensor_distance,sensor_endpoint\n"
   ]
  },
  {
   "cell_type": "code",
   "execution_count": null,
   "id": "7e04541e",
   "metadata": {},
   "outputs": [],
   "source": [
    "def run_simulation(start_x=DEFAULT_START_X, \n",
    "                   start_y=DEFAULT_START_Y, \n",
    "                   start_angle=DEFAULT_START_ANGLE, \n",
    "                   start_speed=DEFAULT_START_SPEED):\n",
    "    pygame.init()\n",
    "    screen = pygame.display.set_mode((SCREEN_WIDTH, SCREEN_HEIGHT))\n",
    "    clock = pygame.time.Clock()\n",
    "    pygame.display.set_caption(\"Car Simulation\")\n",
    "\n",
    "    track_image = pygame.image.load(TRACK_IMAGE_PATH).convert()\n",
    "    car = Car(CAR_IMAGE_PATH, start_x, start_y, start_angle, start_speed)\n",
    "\n",
    "    running = True\n",
    "    while running:\n",
    "        for event in pygame.event.get():\n",
    "            if event.type == pygame.QUIT:\n",
    "                running = False\n",
    "\n",
    "        screen.fill(BG_COLOR)\n",
    "        screen.blit(track_image, (0, 0))\n",
    "        car.move()\n",
    "        car.draw(screen)\n",
    "        \n",
    "        # Ray casting\n",
    "        distance,sensor_endpoint=ray_casting(car,screen,track_image)\n",
    "        font=pygame.font.Font(None,22)\n",
    "        text_surface=font.render(f\"Distances: {distance}\",True,(255,255,255))\n",
    "        screen.blit(text_surface,(50,50))\n",
    "        for endpoint in sensor_endpoint:\n",
    "            pygame.draw.line(screen,(0,255,0),(car.x,car.y),endpoint,1)\n",
    "\n",
    "        \n",
    "        # collision detection\n",
    "        ROAD_COLOR = DRAW_COLOR\n",
    "\n",
    "        try:\n",
    "            car_center_pos = (int(car.x), int(car.y))\n",
    "            pixel_color = screen.get_at(car_center_pos)\n",
    "            if pixel_color == ROAD_COLOR:\n",
    "                font = pygame.font.Font(None, 22)  \n",
    "                text_surface = font.render(\"Car has crashed!\", True, (255, 255, 255))  \n",
    "                screen.blit(text_surface, (50, 65))  \n",
    "                # Reset car to start position and angle\n",
    "                car.x, car.y = start_x, start_y\n",
    "                car.angle = start_angle\n",
    "                car.speed = start_speed\n",
    "\n",
    "        except IndexError:\n",
    "            # Car went off screen\n",
    "            font = pygame.font.Font(None, 22)  \n",
    "            text_surface = font.render(\"Car has crashed!\", True, (255, 255, 255)) \n",
    "            screen.blit(text_surface, (50, 65))  \n",
    "            # Reset car to start position and angle\n",
    "            car.x, car.y = start_x, start_y\n",
    "            car.angle = start_angle\n",
    "            car.speed = start_speed\n",
    "\n",
    "        pygame.display.update()\n",
    "        clock.tick(60)\n",
    "\n",
    "    pygame.quit()\n"
   ]
  },
  {
   "cell_type": "code",
   "execution_count": 13,
   "id": "823c5ef8",
   "metadata": {},
   "outputs": [],
   "source": [
    "if __name__ == \"__main__\":\n",
    "    # draw_track()\n",
    "    run_simulation()\n"
   ]
  },
  {
   "cell_type": "code",
   "execution_count": null,
   "id": "5902fbd8",
   "metadata": {},
   "outputs": [],
   "source": []
  }
 ],
 "metadata": {
  "kernelspec": {
   "display_name": "venv (3.13.7)",
   "language": "python",
   "name": "python3"
  },
  "language_info": {
   "codemirror_mode": {
    "name": "ipython",
    "version": 3
   },
   "file_extension": ".py",
   "mimetype": "text/x-python",
   "name": "python",
   "nbconvert_exporter": "python",
   "pygments_lexer": "ipython3",
   "version": "3.13.7"
  }
 },
 "nbformat": 4,
 "nbformat_minor": 5
}
