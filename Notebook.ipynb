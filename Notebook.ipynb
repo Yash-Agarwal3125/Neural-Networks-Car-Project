{
 "cells": [
  {
   "cell_type": "code",
   "execution_count": 3,
   "id": "f6ebb160",
   "metadata": {},
   "outputs": [],
   "source": [
    "import numpy as np\n",
    "import pygame\n",
    "import tensorflow as tf\n"
   ]
  },
  {
   "cell_type": "markdown",
   "id": "ff8dcd7b",
   "metadata": {},
   "source": [
    "FOR making th track drawing \n",
    "left ckick for drawing the track\n",
    "right click for eraing the track"
   ]
  },
  {
   "cell_type": "code",
   "execution_count": null,
   "id": "912d2d9f",
   "metadata": {},
   "outputs": [],
   "source": [
    "pygame.init()\n",
    "pygame.display.set_caption(\"drawing the track, press 'S' to save as image.\")\n",
    "screen=pygame.display.set_mode((1280,720))\n",
    "screen.fill((120,120,120))\n",
    "running=True\n",
    "drawing=False\n",
    "erase=False\n",
    "while running:\n",
    "    for event in pygame.event.get():   #quitting is close is pressed\n",
    "        if event.type==pygame.QUIT:\n",
    "            running=False\n",
    "        if event.type==pygame.MOUSEBUTTONDOWN:    #checking if button is pressed \n",
    "            if event.button==1:\n",
    "                drawing=True\n",
    "            elif event.button==3:\n",
    "                erase=True\n",
    "        if event.type==pygame.MOUSEBUTTONUP:      #checking if button is released\n",
    "            if event.button==1:\n",
    "                drawing=False\n",
    "            elif event.button==3:\n",
    "                erase=False\n",
    "        if event.type==pygame.MOUSEMOTION:         #tracking the mouse pointer \n",
    "            mouse_pos=pygame.mouse.get_pos()\n",
    "            if drawing:\n",
    "                pygame.draw.circle(screen,(50,50,50),mouse_pos,2)     #hilighting the path of the mouse\n",
    "            elif erase:\n",
    "                pygame.draw.circle(screen,(120,120,120),mouse_pos,5)     #erasing the path of the mouse\n",
    "        if event.type==pygame.KEYDOWN:\n",
    "            if event.key==pygame.K_s:\n",
    "                pygame.image.save(screen,\"track.png\")         #saving the track image\n",
    "    pygame.display.update()\n",
    "    #Car Image creation.\n",
    "    car_img = pygame.image.load(\"Track_images/car.png\").convert_alpha()\n",
    "    car_img = pygame.transform.scale(car_img, (40, 20)) \n"
   ]
  },
  {
   "cell_type": "code",
   "execution_count": null,
   "id": "ec1fd998",
   "metadata": {},
   "outputs": [],
   "source": [
    "car_img = pygame.image.load(\"Track_images/car.png\").convert_alpha()\n",
    "car_img = pygame.transform.scale(car_img, (80, 40)) \n",
    "pygame.quit()"
   ]
  },
  {
   "cell_type": "code",
   "execution_count": 10,
   "id": "7e04541e",
   "metadata": {},
   "outputs": [
    {
     "name": "stderr",
     "output_type": "stream",
     "text": [
      "<>:5: SyntaxWarning: invalid escape sequence '\\s'\n",
      "<>:5: SyntaxWarning: invalid escape sequence '\\s'\n",
      "C:\\Users\\PC\\AppData\\Local\\Temp\\ipykernel_5780\\3175602107.py:5: SyntaxWarning: invalid escape sequence '\\s'\n",
      "  track_image=pygame.image.load(\"Track_images\\silverstone_track.png\").convert()  #loading the track image\n"
     ]
    }
   ],
   "source": [
    "pygame.init()  #start the program\n",
    "screen = pygame.display.set_mode((1280,720))  #setting the size of the screen \n",
    "clock=pygame.time.Clock()   #time for clock/ frame rate \n",
    "pygame.display.set_caption(\"Car Simulation\")  #setting the title of the window\n",
    "track_image=pygame.image.load(\"Track_images\\silverstone_track.png\").convert()  #loading the track image\n",
    "running =True\n",
    "while running:\n",
    "    for event in pygame.event.get():  #checking for event\n",
    "        if event.type==pygame.QUIT:   #closing the event/program after clicking the close button\n",
    "            running=False\n",
    "    screen.fill((120,120,120))   #filling the screen with a color (gray)\n",
    "    screen.blit(track_image, (0, 0))\n",
    "    screen.blit(car_img, (100, 100))   #drawing the car image on the screen\n",
    "    pygame.display.update()           #updating the display\n",
    "    clock.tick(60)     #setting the frame rate\n",
    "pygame.quit()"
   ]
  },
  {
   "cell_type": "code",
   "execution_count": null,
   "id": "823c5ef8",
   "metadata": {},
   "outputs": [],
   "source": []
  }
 ],
 "metadata": {
  "kernelspec": {
   "display_name": ".venv",
   "language": "python",
   "name": "python3"
  },
  "language_info": {
   "codemirror_mode": {
    "name": "ipython",
    "version": 3
   },
   "file_extension": ".py",
   "mimetype": "text/x-python",
   "name": "python",
   "nbconvert_exporter": "python",
   "pygments_lexer": "ipython3",
   "version": "3.13.7"
  }
 },
 "nbformat": 4,
 "nbformat_minor": 5
}
