{
 "cells": [
  {
   "cell_type": "code",
   "execution_count": 46,
   "id": "add19033",
   "metadata": {},
   "outputs": [],
   "source": [
    "from Core_Game_Parts import *\n",
    "import pygame\n",
    "import numpy as np\n",
    "import tensorflow as tf\n",
    "from keras.models import Sequential\n",
    "from keras.layers import Dense\n",
    "import time\n",
    "import os\n",
    "os.environ[\"SDL_VIDEODRIVER\"] = \"windows\" "
   ]
  },
  {
   "cell_type": "code",
   "execution_count": 47,
   "id": "c41a80d7",
   "metadata": {},
   "outputs": [
    {
     "data": {
      "text/html": [
       "<pre style=\"white-space:pre;overflow-x:auto;line-height:normal;font-family:Menlo,'DejaVu Sans Mono',consolas,'Courier New',monospace\"><span style=\"font-weight: bold\">Model: \"sequential_41\"</span>\n",
       "</pre>\n"
      ],
      "text/plain": [
       "\u001b[1mModel: \"sequential_41\"\u001b[0m\n"
      ]
     },
     "metadata": {},
     "output_type": "display_data"
    },
    {
     "data": {
      "text/html": [
       "<pre style=\"white-space:pre;overflow-x:auto;line-height:normal;font-family:Menlo,'DejaVu Sans Mono',consolas,'Courier New',monospace\">┏━━━━━━━━━━━━━━━━━━━━━━━━━━━━━━━━━┳━━━━━━━━━━━━━━━━━━━━━━━━┳━━━━━━━━━━━━━━━┓\n",
       "┃<span style=\"font-weight: bold\"> Layer (type)                    </span>┃<span style=\"font-weight: bold\"> Output Shape           </span>┃<span style=\"font-weight: bold\">       Param # </span>┃\n",
       "┡━━━━━━━━━━━━━━━━━━━━━━━━━━━━━━━━━╇━━━━━━━━━━━━━━━━━━━━━━━━╇━━━━━━━━━━━━━━━┩\n",
       "│ dense_123 (<span style=\"color: #0087ff; text-decoration-color: #0087ff\">Dense</span>)               │ (<span style=\"color: #00d7ff; text-decoration-color: #00d7ff\">None</span>, <span style=\"color: #00af00; text-decoration-color: #00af00\">32</span>)             │           <span style=\"color: #00af00; text-decoration-color: #00af00\">160</span> │\n",
       "├─────────────────────────────────┼────────────────────────┼───────────────┤\n",
       "│ dense_124 (<span style=\"color: #0087ff; text-decoration-color: #0087ff\">Dense</span>)               │ (<span style=\"color: #00d7ff; text-decoration-color: #00d7ff\">None</span>, <span style=\"color: #00af00; text-decoration-color: #00af00\">16</span>)             │           <span style=\"color: #00af00; text-decoration-color: #00af00\">528</span> │\n",
       "├─────────────────────────────────┼────────────────────────┼───────────────┤\n",
       "│ dense_125 (<span style=\"color: #0087ff; text-decoration-color: #0087ff\">Dense</span>)               │ (<span style=\"color: #00d7ff; text-decoration-color: #00d7ff\">None</span>, <span style=\"color: #00af00; text-decoration-color: #00af00\">3</span>)              │            <span style=\"color: #00af00; text-decoration-color: #00af00\">51</span> │\n",
       "└─────────────────────────────────┴────────────────────────┴───────────────┘\n",
       "</pre>\n"
      ],
      "text/plain": [
       "┏━━━━━━━━━━━━━━━━━━━━━━━━━━━━━━━━━┳━━━━━━━━━━━━━━━━━━━━━━━━┳━━━━━━━━━━━━━━━┓\n",
       "┃\u001b[1m \u001b[0m\u001b[1mLayer (type)                   \u001b[0m\u001b[1m \u001b[0m┃\u001b[1m \u001b[0m\u001b[1mOutput Shape          \u001b[0m\u001b[1m \u001b[0m┃\u001b[1m \u001b[0m\u001b[1m      Param #\u001b[0m\u001b[1m \u001b[0m┃\n",
       "┡━━━━━━━━━━━━━━━━━━━━━━━━━━━━━━━━━╇━━━━━━━━━━━━━━━━━━━━━━━━╇━━━━━━━━━━━━━━━┩\n",
       "│ dense_123 (\u001b[38;5;33mDense\u001b[0m)               │ (\u001b[38;5;45mNone\u001b[0m, \u001b[38;5;34m32\u001b[0m)             │           \u001b[38;5;34m160\u001b[0m │\n",
       "├─────────────────────────────────┼────────────────────────┼───────────────┤\n",
       "│ dense_124 (\u001b[38;5;33mDense\u001b[0m)               │ (\u001b[38;5;45mNone\u001b[0m, \u001b[38;5;34m16\u001b[0m)             │           \u001b[38;5;34m528\u001b[0m │\n",
       "├─────────────────────────────────┼────────────────────────┼───────────────┤\n",
       "│ dense_125 (\u001b[38;5;33mDense\u001b[0m)               │ (\u001b[38;5;45mNone\u001b[0m, \u001b[38;5;34m3\u001b[0m)              │            \u001b[38;5;34m51\u001b[0m │\n",
       "└─────────────────────────────────┴────────────────────────┴───────────────┘\n"
      ]
     },
     "metadata": {},
     "output_type": "display_data"
    },
    {
     "data": {
      "text/html": [
       "<pre style=\"white-space:pre;overflow-x:auto;line-height:normal;font-family:Menlo,'DejaVu Sans Mono',consolas,'Courier New',monospace\"><span style=\"font-weight: bold\"> Total params: </span><span style=\"color: #00af00; text-decoration-color: #00af00\">739</span> (2.89 KB)\n",
       "</pre>\n"
      ],
      "text/plain": [
       "\u001b[1m Total params: \u001b[0m\u001b[38;5;34m739\u001b[0m (2.89 KB)\n"
      ]
     },
     "metadata": {},
     "output_type": "display_data"
    },
    {
     "data": {
      "text/html": [
       "<pre style=\"white-space:pre;overflow-x:auto;line-height:normal;font-family:Menlo,'DejaVu Sans Mono',consolas,'Courier New',monospace\"><span style=\"font-weight: bold\"> Trainable params: </span><span style=\"color: #00af00; text-decoration-color: #00af00\">739</span> (2.89 KB)\n",
       "</pre>\n"
      ],
      "text/plain": [
       "\u001b[1m Trainable params: \u001b[0m\u001b[38;5;34m739\u001b[0m (2.89 KB)\n"
      ]
     },
     "metadata": {},
     "output_type": "display_data"
    },
    {
     "data": {
      "text/html": [
       "<pre style=\"white-space:pre;overflow-x:auto;line-height:normal;font-family:Menlo,'DejaVu Sans Mono',consolas,'Courier New',monospace\"><span style=\"font-weight: bold\"> Non-trainable params: </span><span style=\"color: #00af00; text-decoration-color: #00af00\">0</span> (0.00 B)\n",
       "</pre>\n"
      ],
      "text/plain": [
       "\u001b[1m Non-trainable params: \u001b[0m\u001b[38;5;34m0\u001b[0m (0.00 B)\n"
      ]
     },
     "metadata": {},
     "output_type": "display_data"
    }
   ],
   "source": [
    "def model():\n",
    "    \"\"\"Builds a simple feedforward neural network model.\n",
    "\n",
    "    Returns:\n",
    "        model: A Keras Sequential model instance.\n",
    "    \"\"\"\n",
    "    model=Sequential(\n",
    "        [Dense(32,activation='relu',input_shape=(4,)),\n",
    "         Dense(16,activation='relu'),\n",
    "         Dense(3,activation='linear')]\n",
    "    )\n",
    "    optimizer = tf.keras.optimizers.Adam(learning_rate=0.0001)\n",
    "    model.compile(optimizer=optimizer, loss='mse')\n",
    "    return model\n",
    "ai_model=model()\n",
    "ai_model.summary()\n",
    "    "
   ]
  },
  {
   "cell_type": "code",
   "execution_count": 48,
   "id": "9ad69a8b",
   "metadata": {},
   "outputs": [
    {
     "name": "stdout",
     "output_type": "stream",
     "text": [
      "Error loading weights: A total of 3 objects could not be loaded. Example error message for object <Dense name=dense_126, built=True>:\n",
      "\n",
      "The shape of the target variable and the shape of the target value in `variable.assign(value)` must match. variable.shape=(4, 32), Received: value.shape=(4, 64). Target variable: <Variable path=sequential_42/dense_126/kernel, shape=(4, 32), dtype=float32, value=[[-0.23685893 -0.06073299  0.33682036 -0.08710808  0.3521924  -0.04636797\n",
      "   0.2709021   0.35026324 -0.07572749 -0.02431053  0.40008897  0.22819954\n",
      "  -0.15395638  0.36628926  0.36562598 -0.14341685  0.15896487 -0.054066\n",
      "   0.23976481 -0.35768837 -0.25903717 -0.049725    0.02800611 -0.26188195\n",
      "   0.15255195  0.40119267 -0.11390129  0.2985571   0.0814296   0.02732408\n",
      "   0.2983405  -0.13282526]\n",
      " [-0.28503448 -0.25244987 -0.09811771 -0.11161521  0.0056546  -0.27458578\n",
      "  -0.06426612 -0.21189958 -0.33281574  0.35008764  0.12161958 -0.3475892\n",
      "   0.08241609 -0.37503356  0.23186898  0.12444264 -0.25257796 -0.05039319\n",
      "  -0.3791609   0.22286552  0.05762202  0.01282695  0.33110005 -0.11067885\n",
      "  -0.40251514  0.13372618 -0.09465632  0.02671283 -0.00600931 -0.08219805\n",
      "  -0.05804834 -0.33652288]\n",
      " [-0.12050015 -0.17942673  0.21303159 -0.06624892 -0.22956151  0.34731025\n",
      "   0.10129994 -0.1787523   0.08242649 -0.05127019  0.09340823 -0.22364478\n",
      "   0.21535832 -0.00573891  0.20695227  0.13438249  0.33001912  0.15378207\n",
      "   0.39194673  0.16163707  0.13593906 -0.02193519  0.26105165 -0.03044713\n",
      "  -0.35331583  0.15198869 -0.267013    0.22011048  0.13937342 -0.40357655\n",
      "  -0.04512832 -0.02722576]\n",
      " [-0.19986248  0.15270221 -0.13711    -0.10028681 -0.081328    0.2684812\n",
      "   0.30133104 -0.22593154 -0.35533696 -0.33530077 -0.3625281   0.11130714\n",
      "   0.32219613  0.08343732  0.25680834  0.3369655  -0.01937327  0.12053168\n",
      "   0.10603184 -0.33615488  0.03410107  0.10159206  0.3432848  -0.36679465\n",
      "  -0.27851924 -0.01818305 -0.00295234 -0.3043509   0.18758363 -0.12150532\n",
      "  -0.2996598   0.00336882]]>\n",
      "\n",
      "List of objects that could not be loaded:\n",
      "[<Dense name=dense_126, built=True>, <Dense name=dense_127, built=True>, <Dense name=dense_128, built=True>]\n"
     ]
    },
    {
     "name": "stderr",
     "output_type": "stream",
     "text": [
      "c:\\Users\\Yash\\OneDrive\\Desktop\\Neural Networks Car Project\\.venv\\Lib\\site-packages\\keras\\src\\saving\\saving_lib.py:797: UserWarning: Skipping variable loading for optimizer 'adam', because it has 2 variables whereas the saved optimizer has 14 variables. \n",
      "  saveable.load_own_variables(weights_store.get(inner_path))\n"
     ]
    }
   ],
   "source": [
    "def run_trained_agent(weights_path):\n",
    "    \"\"\"\n",
    "    Loads a trained agent and runs the visual simulation with corrected logic.\n",
    "    \"\"\"\n",
    "    pygame.init()\n",
    "    screen = pygame.display.set_mode((SCREEN_WIDTH, SCREEN_HEIGHT))\n",
    "    clock = pygame.time.Clock()\n",
    "    pygame.display.set_caption(\"Trained AI Agent\")\n",
    "    font = pygame.font.SysFont(None, 36)\n",
    "    crash_font = pygame.font.SysFont(None, 72)\n",
    "    track_surface = pygame.image.load(TRACK_IMAGE_PATH).convert()\n",
    "\n",
    "    ai_model = model()\n",
    "    try:\n",
    "        ai_model.load_weights(weights_path)\n",
    "        print(f\"Successfully loaded weights from: {weights_path}\")\n",
    "    except Exception as e:\n",
    "        print(f\"Error loading weights: {e}\")\n",
    "        pygame.quit()\n",
    "        return\n",
    "    action_counts = {0: 0, 1: 0, 2: 0}  # To track the number of each action taken\n",
    "    car = Car(CAR_IMAGE_PATH, DEFAULT_START_X, DEFAULT_START_Y, angle=DEFAULT_START_ANGLE)\n",
    "    running = True\n",
    "    while running:\n",
    "        for event in pygame.event.get():\n",
    "            if event.type == pygame.QUIT:\n",
    "                running = False\n",
    "\n",
    "        # 1. Get state (Corrected to use 4 inputs)\n",
    "        distances, ray_endpoints = ray_casting(car, track_surface)\n",
    "        normalized_speed = car.speed / MAX_SPEED\n",
    "        state = np.array(distances + [normalized_speed])\n",
    "        state = np.reshape(state, [1, 4])\n",
    "        # 2. Predict the best action\n",
    "        q_values = ai_model.predict(state, verbose=0)\n",
    "        action = np.argmax(q_values[0])\n",
    "        action_map = {0: \"Left\", 1: \"Right\", 2: \"Brake\"}\n",
    "        action_counts[action] += 1\n",
    "        # 3. Execute action (using the same physics as the training function)\n",
    "        car.speed += ACCELERATION\n",
    "        if car.speed > 0:\n",
    "            speed_factor = car.speed / MAX_SPEED\n",
    "            dynamic_turn_angle = MAX_TURN_ANGLE - (speed_factor) * (MAX_TURN_ANGLE - MIN_TURN_ANGLE)\n",
    "            if action == 0: car.angle += dynamic_turn_angle\n",
    "            elif action == 1: car.angle -= dynamic_turn_angle\n",
    "        if action == 2: car.speed -= BRAKE_FORCE\n",
    "        \n",
    "        car.speed -= FRICTION\n",
    "        car.speed = max(0, min(car.speed, MAX_SPEED))\n",
    "        car.move()\n",
    "\n",
    "        # 4. Check for crash (Corrected to use BG_COLOR)\n",
    "        crashed = False\n",
    "        try:\n",
    "            pixel_color = track_surface.get_at((int(car.x), int(car.y)))[:3]\n",
    "            if pixel_color == DRAW_COLOR:\n",
    "                crashed = True\n",
    "        except IndexError:\n",
    "            crashed = True\n",
    "        \n",
    "        if crashed:\n",
    "            crash_text = crash_font.render(\"CRASHED! Resetting...\", True, (255, 0, 0))\n",
    "            text_rect = crash_text.get_rect(center=(SCREEN_WIDTH/2, SCREEN_HEIGHT/2))\n",
    "            screen.blit(crash_text, text_rect)\n",
    "            pygame.display.update()\n",
    "            pygame.time.wait(2000)\n",
    "            car = Car(CAR_IMAGE_PATH, DEFAULT_START_X, DEFAULT_START_Y, angle=DEFAULT_START_ANGLE)\n",
    "            print(\"Total actions taken by the agent during the simulation:\")\n",
    "            for action, count in action_counts.items():\n",
    "                print(f\"Action {action}: {count}\")\n",
    "            action_counts = {0: 0, 1: 0, 2: 0}\n",
    "            \n",
    "        # 5. Render everything\n",
    "        screen.blit(track_surface, (0, 0))\n",
    "        car.draw(screen)\n",
    "        for point in ray_endpoints:\n",
    "            pygame.draw.line(screen, (0, 255, 0), (car.x, car.y), point, 1)\n",
    "        \n",
    "        info_text = f\"Action: {action_map[action]} | Speed: {car.speed:.2f}\"\n",
    "        text_surface = font.render(info_text, True, (255, 255, 255))\n",
    "        screen.blit(text_surface, (20, 20))\n",
    "\n",
    "        pygame.display.update()\n",
    "        clock.tick(60)\n",
    "\n",
    "    pygame.quit()   \n",
    "\n",
    "# --- RUN THE SIMULATION WITH YOUR TRAINED WEIGHTS ---\n",
    "# ------------------------------------------------------------------\n",
    "# IMPORTANT: Change this to the name of your saved weights file!\n",
    "WEIGHTS_FILENAME = \"finetuned_weights_episode_600.weights.h5\"\n",
    "# ------------------------------------------------------------------\n",
    "\n",
    "# This checks if a pygame window is already open to avoid errors\n",
    "if not pygame.display.get_init():\n",
    "    run_trained_agent(WEIGHTS_FILENAME)\n",
    "else:\n",
    "    # If you get this message, restart the notebook kernel before running this cell again.\n",
    "    print(\"Pygame window may already be open. Please restart the kernel to run again.\")"
   ]
  },
  {
   "cell_type": "code",
   "execution_count": 57,
   "id": "60c3e180",
   "metadata": {},
   "outputs": [
    {
     "name": "stdout",
     "output_type": "stream",
     "text": [
      "Successfully loaded final weights from: final_imitation.weights.h5\n",
      "Car crashes!\n",
      "Total actions taken by the agent during the simulation:\n",
      "Action 0: 1\n",
      "Action 1: 49\n",
      "Action 2: 0\n"
     ]
    }
   ],
   "source": [
    "def run_final_agent(weights_path):\n",
    "    \"\"\"\n",
    "    Loads the imitation-trained agent and runs the visual simulation correctly.\n",
    "    \"\"\"\n",
    "    os.environ[\"SDL_VIDEODRIVER\"] = \"windows\"\n",
    "    pygame.init()\n",
    "    screen = pygame.display.set_mode((SCREEN_WIDTH, SCREEN_HEIGHT))\n",
    "    clock = pygame.time.Clock()\n",
    "    pygame.display.set_caption(\"Final Trained Agent\")\n",
    "    font = pygame.font.SysFont(None, 36)\n",
    "    track_surface = pygame.image.load(TRACK_IMAGE_PATH).convert()\n",
    "\n",
    "    # Define the model architecture EXACTLY as it was for training in Phase 2\n",
    "    def model_for_testing():\n",
    "        net = Sequential([\n",
    "            Dense(64, activation='relu', input_shape=(4,)),\n",
    "            Dense(64, activation='relu'),\n",
    "            Dense(3, activation='linear') # Use linear for argmax, it's more stable\n",
    "        ])\n",
    "        net.compile() # Compile is not strictly needed for prediction but is good practice\n",
    "        return net\n",
    "\n",
    "    ai_model = model_for_testing()\n",
    "    try:\n",
    "        ai_model.load_weights(weights_path)\n",
    "        print(f\"Successfully loaded final weights from: {weights_path}\")\n",
    "    except Exception as e:\n",
    "        print(f\"Error loading weights: {e}\")\n",
    "        pygame.quit(); return\n",
    "    action_counts = {0: 0, 1: 0, 2: 0}\n",
    "    # This assumes your Car class and ray_casting function are defined in a cell above\n",
    "    car = Car(CAR_IMAGE_PATH, DEFAULT_START_X, DEFAULT_START_Y, angle=DEFAULT_START_ANGLE)\n",
    "    running = True\n",
    "    while running:\n",
    "        for event in pygame.event.get():\n",
    "            if event.type == pygame.QUIT:\n",
    "                running = False\n",
    "\n",
    "        # 1. Get state\n",
    "        distances, ray_endpoints = ray_casting(car, track_surface)\n",
    "        state = np.array(distances + [car.speed / MAX_SPEED])\n",
    "        state = np.reshape(state, [1, 4])\n",
    "        \n",
    "        # 2. Predict best action\n",
    "        prediction = ai_model.predict(state, verbose=0)\n",
    "        action = np.argmax(prediction[0])\n",
    "        action_map = {0: \"Left\", 1: \"Right\", 2: \"Brake\"}\n",
    "        action_counts[action] += 1\n",
    "        \n",
    "        # 3. Execute action\n",
    "        if action != 2:\n",
    "            car.speed += ACCELERATION\n",
    "        if car.speed > 0:\n",
    "            speed_factor = car.speed / MAX_SPEED\n",
    "            turn = MAX_TURN_ANGLE - (speed_factor) * (MAX_TURN_ANGLE - MIN_TURN_ANGLE)\n",
    "            if action == 0: car.angle += turn\n",
    "            elif action == 1: car.angle -= turn\n",
    "        if action == 2: car.speed -= BRAKE_FORCE\n",
    "        car.speed -= FRICTION\n",
    "        car.speed = max(0, min(car.speed, MAX_SPEED))\n",
    "        car.move()\n",
    "        \n",
    "        # 4. Check for crash (CORRECTED LOGIC)\n",
    "        crashed = False\n",
    "        try:\n",
    "            # Check if the car is on the WALL (BG_COLOR)\n",
    "            if track_surface.get_at((int(car.x), int(car.y)))[:3] == DRAW_COLOR:\n",
    "                crashed = True\n",
    "        except IndexError:\n",
    "            crashed = True # Crashed if out of screen bounds\n",
    "        \n",
    "        if crashed:\n",
    "            # Simple reset on crash\n",
    "            car = Car(CAR_IMAGE_PATH, DEFAULT_START_X, DEFAULT_START_Y, angle=DEFAULT_START_ANGLE)\n",
    "            print(\"Car crashes!\")\n",
    "            print(\"Total actions taken by the agent during the simulation:\")\n",
    "            for action, count in action_counts.items():\n",
    "                print(f\"Action {action}: {count}\")\n",
    "            action_counts = {0: 0, 1: 0, 2: 0}\n",
    "\n",
    "        # 5. Render everything\n",
    "        screen.blit(track_surface, (0, 0))\n",
    "        car.draw(screen)\n",
    "        for point in ray_endpoints:\n",
    "            pygame.draw.line(screen, (0, 255, 0), (car.x, car.y), point, 1)\n",
    "        \n",
    "        info_text = f\"Action: {action_map[action]} | Speed: {car.speed:.2f}\"\n",
    "        text_surface = font.render(info_text, True, (255, 255, 255))\n",
    "        screen.blit(text_surface, (20, 20))\n",
    "\n",
    "        pygame.display.update()\n",
    "        clock.tick(60)\n",
    "        \n",
    "    pygame.quit()\n",
    "\n",
    "# --- RUN YOUR FINAL AGENT ---\n",
    "# ------------------------------------------------------------------\n",
    "# IMPORTANT: Change this to the name of the weights file saved in Phase 2\n",
    "WEIGHTS_FILENAME = \"final_imitation.weights.h5\"\n",
    "# ------------------------------------------------------------------\n",
    "\n",
    "if not pygame.display.get_init():\n",
    "    run_final_agent(WEIGHTS_FILENAME)\n",
    "else:\n",
    "    print(\"Pygame window may already be open. Please restart the kernel to run again.\")"
   ]
  },
  {
   "cell_type": "code",
   "execution_count": null,
   "id": "bd9ae3a7",
   "metadata": {},
   "outputs": [],
   "source": []
  }
 ],
 "metadata": {
  "kernelspec": {
   "display_name": ".venv (3.13.7)",
   "language": "python",
   "name": "python3"
  },
  "language_info": {
   "codemirror_mode": {
    "name": "ipython",
    "version": 3
   },
   "file_extension": ".py",
   "mimetype": "text/x-python",
   "name": "python",
   "nbconvert_exporter": "python",
   "pygments_lexer": "ipython3",
   "version": "3.13.7"
  }
 },
 "nbformat": 4,
 "nbformat_minor": 5
}
